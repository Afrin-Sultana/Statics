{
 "cells": [
  {
   "cell_type": "code",
   "execution_count": 1,
   "id": "6d20f06c",
   "metadata": {
    "ExecuteTime": {
     "end_time": "2023-05-27T07:29:57.755640Z",
     "start_time": "2023-05-27T07:29:57.465391Z"
    }
   },
   "outputs": [],
   "source": [
    "import numpy as np\n",
    "import matplotlib.pyplot as sns"
   ]
  },
  {
   "cell_type": "code",
   "execution_count": 2,
   "id": "f277b358",
   "metadata": {
    "ExecuteTime": {
     "end_time": "2023-05-27T07:29:57.849115Z",
     "start_time": "2023-05-27T07:29:57.827310Z"
    }
   },
   "outputs": [
    {
     "data": {
      "text/plain": [
       "array([ 2, 20, 18,  8, 13, 17, 28, 10, 17, 14])"
      ]
     },
     "execution_count": 2,
     "metadata": {},
     "output_type": "execute_result"
    }
   ],
   "source": [
    "x = np.random.randint(1,30,10)\n",
    "x"
   ]
  },
  {
   "cell_type": "code",
   "execution_count": 3,
   "id": "45e4b991",
   "metadata": {
    "ExecuteTime": {
     "end_time": "2023-05-27T07:29:59.694565Z",
     "start_time": "2023-05-27T07:29:59.678236Z"
    }
   },
   "outputs": [
    {
     "data": {
      "text/plain": [
       "[2, 20, 18, 8, 13, 17, 28, 10, 17, 14]"
      ]
     },
     "execution_count": 3,
     "metadata": {},
     "output_type": "execute_result"
    }
   ],
   "source": [
    "x = list(x)\n",
    "x"
   ]
  },
  {
   "cell_type": "code",
   "execution_count": 4,
   "id": "3dccd14d",
   "metadata": {
    "ExecuteTime": {
     "end_time": "2023-05-26T22:24:34.402928Z",
     "start_time": "2023-05-26T22:24:34.376212Z"
    }
   },
   "outputs": [
    {
     "data": {
      "text/plain": [
       "14.7"
      ]
     },
     "execution_count": 4,
     "metadata": {},
     "output_type": "execute_result"
    }
   ],
   "source": [
    "sum(x)/len(x)"
   ]
  },
  {
   "cell_type": "code",
   "execution_count": 5,
   "id": "eba6de6a",
   "metadata": {
    "ExecuteTime": {
     "end_time": "2023-05-27T07:30:03.225381Z",
     "start_time": "2023-05-27T07:30:03.183637Z"
    }
   },
   "outputs": [],
   "source": [
    "import statistics as st"
   ]
  },
  {
   "cell_type": "code",
   "execution_count": 6,
   "id": "f49ee9c0",
   "metadata": {
    "ExecuteTime": {
     "end_time": "2023-05-26T22:24:34.504969Z",
     "start_time": "2023-05-26T22:24:34.479794Z"
    }
   },
   "outputs": [
    {
     "data": {
      "text/plain": [
       "14"
      ]
     },
     "execution_count": 6,
     "metadata": {},
     "output_type": "execute_result"
    }
   ],
   "source": [
    "st.mean(x)"
   ]
  },
  {
   "cell_type": "code",
   "execution_count": 7,
   "id": "c8a025f3",
   "metadata": {
    "ExecuteTime": {
     "end_time": "2023-05-26T22:24:34.862743Z",
     "start_time": "2023-05-26T22:24:34.846670Z"
    }
   },
   "outputs": [
    {
     "data": {
      "text/plain": [
       "15.5"
      ]
     },
     "execution_count": 7,
     "metadata": {},
     "output_type": "execute_result"
    }
   ],
   "source": [
    "st.median(x)"
   ]
  },
  {
   "cell_type": "code",
   "execution_count": 8,
   "id": "b96fd6d3",
   "metadata": {
    "ExecuteTime": {
     "end_time": "2023-05-26T22:24:37.186595Z",
     "start_time": "2023-05-26T22:24:37.153209Z"
    }
   },
   "outputs": [
    {
     "data": {
      "text/plain": [
       "17"
      ]
     },
     "execution_count": 8,
     "metadata": {},
     "output_type": "execute_result"
    }
   ],
   "source": [
    "st.mode(x)"
   ]
  },
  {
   "cell_type": "code",
   "execution_count": 9,
   "id": "8f647a8c",
   "metadata": {
    "ExecuteTime": {
     "end_time": "2023-05-14T04:47:59.537795Z",
     "start_time": "2023-05-14T04:47:59.524449Z"
    }
   },
   "outputs": [],
   "source": [
    "###### box_plot"
   ]
  },
  {
   "cell_type": "code",
   "execution_count": 10,
   "id": "8e50c333",
   "metadata": {
    "ExecuteTime": {
     "end_time": "2023-05-27T07:30:15.782440Z",
     "start_time": "2023-05-27T07:30:15.764466Z"
    }
   },
   "outputs": [
    {
     "data": {
      "text/plain": [
       "[2, 20, 18, 8, 13, 17, 28, 10, 17, 14]"
      ]
     },
     "execution_count": 10,
     "metadata": {},
     "output_type": "execute_result"
    }
   ],
   "source": [
    "box_pl = list(x)\n",
    "box_pl"
   ]
  },
  {
   "cell_type": "code",
   "execution_count": 11,
   "id": "51130e2e",
   "metadata": {},
   "outputs": [],
   "source": [
    "test_2=[23, 3, 11, 18, 23, 19, 9, 12, 1, 2,-17]"
   ]
  },
  {
   "cell_type": "code",
   "execution_count": 12,
   "id": "a2ac1a23",
   "metadata": {
    "ExecuteTime": {
     "end_time": "2023-05-27T07:30:19.304957Z",
     "start_time": "2023-05-27T07:30:19.292028Z"
    }
   },
   "outputs": [
    {
     "data": {
      "text/plain": [
       "15.5"
      ]
     },
     "execution_count": 12,
     "metadata": {},
     "output_type": "execute_result"
    }
   ],
   "source": [
    "st.median(box_pl)"
   ]
  },
  {
   "cell_type": "code",
   "execution_count": 13,
   "id": "99604fcd",
   "metadata": {
    "ExecuteTime": {
     "end_time": "2023-05-27T07:30:19.739231Z",
     "start_time": "2023-05-27T07:30:19.722528Z"
    }
   },
   "outputs": [
    {
     "data": {
      "text/plain": [
       "14"
      ]
     },
     "execution_count": 13,
     "metadata": {},
     "output_type": "execute_result"
    }
   ],
   "source": [
    "st.mean(box_pl)"
   ]
  },
  {
   "cell_type": "code",
   "execution_count": 14,
   "id": "6446ac84",
   "metadata": {
    "ExecuteTime": {
     "end_time": "2023-05-27T07:30:21.854679Z",
     "start_time": "2023-05-27T07:30:20.838038Z"
    }
   },
   "outputs": [],
   "source": [
    "import seaborn as sns\n",
    "import matplotlib.pyplot as plt"
   ]
  },
  {
   "cell_type": "code",
   "execution_count": 15,
   "id": "b813b37a",
   "metadata": {
    "ExecuteTime": {
     "end_time": "2023-05-27T07:30:21.979787Z",
     "start_time": "2023-05-27T07:30:21.872320Z"
    },
    "scrolled": false
   },
   "outputs": [
    {
     "data": {
      "text/plain": [
       "<AxesSubplot:>"
      ]
     },
     "execution_count": 15,
     "metadata": {},
     "output_type": "execute_result"
    },
    {
     "data": {
      "image/png": "[encoded data removed]",
      "text/plain": [
       "<Figure size 432x288 with 1 Axes>"
      ]
     },
     "metadata": {
      "needs_background": "light"
     },
     "output_type": "display_data"
    }
   ],
   "source": [
    "sns.boxplot(x=box_pl)"
   ]
  },
  {
   "cell_type": "code",
   "execution_count": 31,
   "id": "f826f733",
   "metadata": {},
   "outputs": [
    {
     "data": {
      "image/png": "[encoded data removed]",
      "text/plain": [
       "<Figure size 432x288 with 1 Axes>"
      ]
     },
     "metadata": {
      "needs_background": "light"
     },
     "output_type": "display_data"
    }
   ],
   "source": [
    "b=plt.boxplot(box_pl)"
   ]
  },
  {
   "cell_type": "code",
   "execution_count": 30,
   "id": "c488f459",
   "metadata": {},
   "outputs": [
    {
     "data": {
      "text/plain": [
       "[2.0, 28.0]"
      ]
     },
     "execution_count": 30,
     "metadata": {},
     "output_type": "execute_result"
    }
   ],
   "source": [
    "[item.get_ydata()[1] for item in b['whiskers']] \n",
    "# this returns the lower and upper whisker as per the python plot not stats\n",
    "\n"
   ]
  },
  {
   "cell_type": "code",
   "execution_count": 17,
   "id": "e917a792",
   "metadata": {
    "ExecuteTime": {
     "end_time": "2023-05-27T07:30:25.096856Z",
     "start_time": "2023-05-27T07:30:25.081669Z"
    }
   },
   "outputs": [],
   "source": [
    "q1, q2, q3 = np.percentile(box_pl, [25, 50, 75])"
   ]
  },
  {
   "cell_type": "code",
   "execution_count": 18,
   "id": "4ab02f76",
   "metadata": {
    "ExecuteTime": {
     "end_time": "2023-05-27T07:30:26.030575Z",
     "start_time": "2023-05-27T07:30:26.022603Z"
    }
   },
   "outputs": [
    {
     "name": "stdout",
     "output_type": "stream",
     "text": [
      "10.75\n",
      "15.5\n",
      "17.75\n"
     ]
    }
   ],
   "source": [
    "print(q1)\n",
    "print(q2)\n",
    "print(q3)"
   ]
  },
  {
   "cell_type": "code",
   "execution_count": 19,
   "id": "fb090533",
   "metadata": {
    "ExecuteTime": {
     "end_time": "2023-05-27T07:30:33.210685Z",
     "start_time": "2023-05-27T07:30:33.197769Z"
    }
   },
   "outputs": [
    {
     "data": {
      "text/plain": [
       "7.0"
      ]
     },
     "execution_count": 19,
     "metadata": {},
     "output_type": "execute_result"
    }
   ],
   "source": [
    "q3-q1"
   ]
  },
  {
   "cell_type": "code",
   "execution_count": 20,
   "id": "70d9e28c",
   "metadata": {
    "ExecuteTime": {
     "end_time": "2023-05-27T07:30:36.132232Z",
     "start_time": "2023-05-27T07:30:36.125140Z"
    }
   },
   "outputs": [],
   "source": [
    "iqr = q3-q1"
   ]
  },
  {
   "cell_type": "code",
   "execution_count": 21,
   "id": "8c3514fb",
   "metadata": {
    "ExecuteTime": {
     "end_time": "2023-05-27T07:30:36.989558Z",
     "start_time": "2023-05-27T07:30:36.976014Z"
    },
    "scrolled": true
   },
   "outputs": [
    {
     "name": "stdout",
     "output_type": "stream",
     "text": [
      "lower limit Q1- 1.5*IQR: 0.25\n",
      "lower limit Q3+ 1.5*IQR: 28.25\n"
     ]
    }
   ],
   "source": [
    "print('lower limit Q1- 1.5*IQR: {}'.format(q1-1.5*iqr))\n",
    "print('lower limit Q3+ 1.5*IQR: {}'.format(q3+1.5*iqr))"
   ]
  },
  {
   "cell_type": "markdown",
   "id": "01927bbf",
   "metadata": {},
   "source": [
    "# Case1: In short if the min and max values in the list is same as :lower limit Q1- 1.5*IQR: 0.25 upper limit Q3+ 1.5*IQR: 28.25, then the whisker will extend till than point.\n",
    "\n",
    "# Case2: If your lower and upper limits are beyond the min max value then it will only extend till min max value.\n",
    "\n",
    "# Case3: If your min max value are byond the lower and upper limit whisker takes the second min or max value\n",
    "\n",
    "# https://matplotlib.org/3.1.1/api/_as_gen/matplotlib.pyplot.boxplot.html \n",
    "The link above shows how plt library calculates the whiskers"
   ]
  },
  {
   "cell_type": "markdown",
   "id": "243c1ede",
   "metadata": {},
   "source": [
    "# Case 1"
   ]
  },
  {
   "cell_type": "code",
   "execution_count": 48,
   "id": "1af3b2e2",
   "metadata": {
    "scrolled": false
   },
   "outputs": [
    {
     "data": {
      "image/png": "[encoded data removed]",
      "text/plain": [
       "<Figure size 432x288 with 1 Axes>"
      ]
     },
     "metadata": {
      "needs_background": "light"
     },
     "output_type": "display_data"
    }
   ],
   "source": [
    "test_2=[0.25, 20, 18, 8, 13, 17, 28.25, 10, 17, 14]\n",
    "b2=plt.boxplot(test_2)"
   ]
  },
  {
   "cell_type": "code",
   "execution_count": 49,
   "id": "360def00",
   "metadata": {},
   "outputs": [],
   "source": [
    "q1, q2, q3 = np.percentile(test_2, [25, 50, 75])\n",
    "iqr = q3-q1\n",
    "print('lower limit Q1- 1.5*IQR: {}'.format(q1-1.5*iqr))\n",
    "print('lower limit Q3+ 1.5*IQR: {}'.format(q3+1.5*iqr))"
   ]
  },
  {
   "cell_type": "code",
   "execution_count": 51,
   "id": "d3a6ca91",
   "metadata": {},
   "outputs": [
    {
     "data": {
      "text/plain": [
       "[0.25, 28.25]"
      ]
     },
     "execution_count": 51,
     "metadata": {},
     "output_type": "execute_result"
    }
   ],
   "source": [
    "[item.get_ydata()[1] for item in b2['whiskers']] "
   ]
  },
  {
   "cell_type": "markdown",
   "id": "7ab17e4d",
   "metadata": {},
   "source": [
    "# Case 2\n"
   ]
  },
  {
   "cell_type": "code",
   "execution_count": 52,
   "id": "6789b57b",
   "metadata": {
    "scrolled": true
   },
   "outputs": [
    {
     "data": {
      "image/png": "[encoded data removed]",
      "text/plain": [
       "<Figure size 432x288 with 1 Axes>"
      ]
     },
     "metadata": {
      "needs_background": "light"
     },
     "output_type": "display_data"
    }
   ],
   "source": [
    "test_2=[2, 20, 18, 8, 13, 17, 21, 10, 17, 14]\n",
    "b2=plt.boxplot(test_2)"
   ]
  },
  {
   "cell_type": "code",
   "execution_count": 53,
   "id": "fff0810c",
   "metadata": {},
   "outputs": [
    {
     "name": "stdout",
     "output_type": "stream",
     "text": [
      "lower limit Q1- 1.5*IQR: 0.25\n",
      "lower limit Q3+ 1.5*IQR: 28.25\n"
     ]
    }
   ],
   "source": [
    "q1, q2, q3 = np.percentile(test_2, [25, 50, 75])\n",
    "iqr = q3-q1\n",
    "print('lower limit Q1- 1.5*IQR: {}'.format(q1-1.5*iqr))\n",
    "print('lower limit Q3+ 1.5*IQR: {}'.format(q3+1.5*iqr))"
   ]
  },
  {
   "cell_type": "code",
   "execution_count": 54,
   "id": "7d42c06a",
   "metadata": {},
   "outputs": [
    {
     "data": {
      "text/plain": [
       "[2.0, 21.0]"
      ]
     },
     "execution_count": 54,
     "metadata": {},
     "output_type": "execute_result"
    }
   ],
   "source": [
    "[item.get_ydata()[1] for item in b2['whiskers']] "
   ]
  },
  {
   "cell_type": "markdown",
   "id": "d27d9db8",
   "metadata": {},
   "source": [
    "# Case 3:"
   ]
  },
  {
   "cell_type": "code",
   "execution_count": 55,
   "id": "aa41e48b",
   "metadata": {},
   "outputs": [
    {
     "data": {
      "image/png": "[encoded data removed]",
      "text/plain": [
       "<Figure size 432x288 with 1 Axes>"
      ]
     },
     "metadata": {
      "needs_background": "light"
     },
     "output_type": "display_data"
    }
   ],
   "source": [
    "test_2=[.24, 20, 18, 8, 13, 17, 29, 10, 17, 14]\n",
    "b2=plt.boxplot(test_2)"
   ]
  },
  {
   "cell_type": "code",
   "execution_count": 56,
   "id": "b4d5c5cf",
   "metadata": {},
   "outputs": [
    {
     "name": "stdout",
     "output_type": "stream",
     "text": [
      "lower limit Q1- 1.5*IQR: 0.25\n",
      "lower limit Q3+ 1.5*IQR: 28.25\n"
     ]
    }
   ],
   "source": [
    "q1, q2, q3 = np.percentile(test_2, [25, 50, 75])\n",
    "iqr = q3-q1\n",
    "print('lower limit Q1- 1.5*IQR: {}'.format(q1-1.5*iqr))\n",
    "print('lower limit Q3+ 1.5*IQR: {}'.format(q3+1.5*iqr))"
   ]
  },
  {
   "cell_type": "code",
   "execution_count": 57,
   "id": "5b873721",
   "metadata": {},
   "outputs": [
    {
     "data": {
      "text/plain": [
       "[8.0, 20.0]"
      ]
     },
     "execution_count": 57,
     "metadata": {},
     "output_type": "execute_result"
    }
   ],
   "source": [
    "[item.get_ydata()[1] for item in b2['whiskers']] "
   ]
  },
  {
   "cell_type": "code",
   "execution_count": null,
   "id": "d53b2a8b",
   "metadata": {},
   "outputs": [],
   "source": [
    "--END--"
   ]
  },
  {
   "cell_type": "code",
   "execution_count": null,
   "id": "5230eb23",
   "metadata": {},
   "outputs": [],
   "source": []
  },
  {
   "cell_type": "code",
   "execution_count": 22,
   "id": "334c7318",
   "metadata": {
    "ExecuteTime": {
     "end_time": "2023-05-26T23:36:13.645894Z",
     "start_time": "2023-05-26T23:36:13.147650Z"
    }
   },
   "outputs": [
    {
     "data": {
      "text/plain": [
       "Text(0.5, 17.75, 'Q3: 17.75')"
      ]
     },
     "execution_count": 22,
     "metadata": {},
     "output_type": "execute_result"
    },
    {
     "data": {
      "image/png": "[encoded data removed]",
      "text/plain": [
       "<Figure size 432x288 with 1 Axes>"
      ]
     },
     "metadata": {
      "needs_background": "light"
     },
     "output_type": "display_data"
    }
   ],
   "source": [
    "plt.text(0.5, q1, f'Q1: {q1:.2f}', ha='center', va='bottom')\n",
    "plt.text(0.5, q2, f'Q2 (Median): {q2:.2f}', ha='center', va='bottom')\n",
    "plt.text(0.5, q3, f'Q3: {q3:.2f}', ha='center', va='bottom')"
   ]
  },
  {
   "cell_type": "code",
   "execution_count": 23,
   "id": "44e1a6e0",
   "metadata": {
    "ExecuteTime": {
     "end_time": "2023-05-26T23:36:27.786574Z",
     "start_time": "2023-05-26T23:36:27.778577Z"
    }
   },
   "outputs": [],
   "source": [
    "plt.show()"
   ]
  }
 ],
 "metadata": {
  "kernelspec": {
   "display_name": "Python 3",
   "language": "python",
   "name": "python3"
  },
  "language_info": {
   "codemirror_mode": {
    "name": "ipython",
    "version": 3
   },
   "file_extension": ".py",
   "mimetype": "text/x-python",
   "name": "python",
   "nbconvert_exporter": "python",
   "pygments_lexer": "ipython3",
   "version": "3.8.8"
  },
  "varInspector": {
   "cols": {
    "lenName": 16,
    "lenType": 16,
    "lenVar": 40
   },
   "kernels_config": {
    "python": {
     "delete_cmd_postfix": "",
     "delete_cmd_prefix": "del ",
     "library": "var_list.py",
     "varRefreshCmd": "print(var_dic_list())"
    },
    "r": {
     "delete_cmd_postfix": ") ",
     "delete_cmd_prefix": "rm(",
     "library": "var_list.r",
     "varRefreshCmd": "cat(var_dic_list()) "
    }
   },
   "types_to_exclude": [
    "module",
    "function",
    "builtin_function_or_method",
    "instance",
    "_Feature"
   ],
   "window_display": false
  }
 },
 "nbformat": 4,
 "nbformat_minor": 5
}
