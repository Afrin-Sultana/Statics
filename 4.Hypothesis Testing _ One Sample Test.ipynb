{
 "cells": [
  {
   "cell_type": "markdown",
   "id": "99856409",
   "metadata": {},
   "source": [
    "### Hypothesis Testing Using Python"
   ]
  },
  {
   "cell_type": "markdown",
   "id": "541a5dad",
   "metadata": {},
   "source": [
    "A machine is producing perfume bottles with the long term average of 150cc and the standard deviation of 2 cc.\n",
    "Four bottles were picked and the average volume was found to be 153.8cc.\n",
    "Has the average volume changed from 150cc? Test with 95% confidence level."
   ]
  },
  {
   "cell_type": "markdown",
   "id": "5822ae1e",
   "metadata": {},
   "source": [
    "Null Hypothesis: Mean volume = 150cc\n",
    "\n",
    "Alpha = 1 - 0.95 = 0.05\n",
    "\n",
    "Z calculated = (Observed mean - population mean) / standard error z = (x — μ) / (σ / √n)"
   ]
  },
  {
   "cell_type": "code",
   "execution_count": 25,
   "id": "c4e959e5",
   "metadata": {},
   "outputs": [],
   "source": [
    "import numpy as np\n",
    "import pandas as pd\n",
    "import matplotlib.pyplot as plt\n",
    "import seaborn as sns\n",
    "from scipy.stats import norm"
   ]
  },
  {
   "cell_type": "code",
   "execution_count": 2,
   "id": "463513d7",
   "metadata": {},
   "outputs": [
    {
     "data": {
      "text/plain": [
       "3.8000000000000114"
      ]
     },
     "execution_count": 2,
     "metadata": {},
     "output_type": "execute_result"
    }
   ],
   "source": [
    "\n",
    "Z_cal = (153.8 - 150) / (2/np.sqrt(4))\n",
    "# import math\n",
    "# Z_cal = (153.8 - 150) / (2/math.sqrt(4))\n",
    "Z_cal\n"
   ]
  },
  {
   "cell_type": "code",
   "execution_count": 3,
   "id": "ccbc6947",
   "metadata": {},
   "outputs": [],
   "source": [
    "# norm.pdf(x, loc=0, scale=1) Probability density function.\n",
    "\n",
    "# norm.cdf(x, loc=0, scale=1)  Cumulative distribution function. (area to the left of x)\n",
    "\n",
    "# norm.sf(x, loc=0, scale=1) Survival function (also defined as 1 - cdf, but sf is sometimes more accurate).\n",
    "\n",
    "# norm.ppf(q, loc=0, scale=1) Percent point function (inverse of cdf — percentiles).\n",
    "\n",
    "# norm.isf(q, loc=0, scale=1) Inverse survival function (inverse of sf)."
   ]
  },
  {
   "cell_type": "code",
   "execution_count": 7,
   "id": "9053ccb3",
   "metadata": {
    "scrolled": true
   },
   "outputs": [
    {
     "data": {
      "text/plain": [
       "0.9750021048517795"
      ]
     },
     "execution_count": 7,
     "metadata": {},
     "output_type": "execute_result"
    }
   ],
   "source": [
    "norm.cdf(1.96) #take the Z critical value and give area on the left"
   ]
  },
  {
   "cell_type": "code",
   "execution_count": 72,
   "id": "0c09d96a",
   "metadata": {},
   "outputs": [
    {
     "data": {
      "text/plain": [
       "0.6554217416103242"
      ]
     },
     "execution_count": 72,
     "metadata": {},
     "output_type": "execute_result"
    }
   ],
   "source": [
    "norm.cdf(0.4)"
   ]
  },
  {
   "cell_type": "code",
   "execution_count": 8,
   "id": "88c8e9f4",
   "metadata": {},
   "outputs": [
    {
     "data": {
      "text/plain": [
       "0.024997895148220435"
      ]
     },
     "execution_count": 8,
     "metadata": {},
     "output_type": "execute_result"
    }
   ],
   "source": [
    "norm.cdf(-1.96) # #take the Z critical value and give area on the left"
   ]
  },
  {
   "cell_type": "code",
   "execution_count": 9,
   "id": "d0fd1526",
   "metadata": {},
   "outputs": [
    {
     "data": {
      "text/plain": [
       "-1.9601351140675658"
      ]
     },
     "execution_count": 9,
     "metadata": {},
     "output_type": "execute_result"
    }
   ],
   "source": [
    "norm.ppf(0.02499) # this will take area left and give Z critical value"
   ]
  },
  {
   "cell_type": "code",
   "execution_count": 10,
   "id": "f2dfa83a",
   "metadata": {},
   "outputs": [
    {
     "data": {
      "text/plain": [
       "0.024997895148220435"
      ]
     },
     "execution_count": 10,
     "metadata": {},
     "output_type": "execute_result"
    }
   ],
   "source": [
    "# what is thea on the right of Z value 1.96\n",
    "norm.sf(1.96) #take the Z critical value and give area on the right"
   ]
  },
  {
   "cell_type": "code",
   "execution_count": 11,
   "id": "cf1bc64c",
   "metadata": {},
   "outputs": [
    {
     "data": {
      "text/plain": [
       "1.9616778690637864"
      ]
     },
     "execution_count": 11,
     "metadata": {},
     "output_type": "execute_result"
    }
   ],
   "source": [
    "norm.isf(0.0249) # this will take area on the right and give Z critical value . This is inverse of sf"
   ]
  },
  {
   "cell_type": "code",
   "execution_count": 12,
   "id": "afd3d518",
   "metadata": {},
   "outputs": [
    {
     "data": {
      "text/plain": [
       "-1.9599639845400545"
      ]
     },
     "execution_count": 12,
     "metadata": {},
     "output_type": "execute_result"
    }
   ],
   "source": [
    "# Z critical Value on the left given area\n",
    "Z_crit_left = norm.ppf(0.025)\n",
    "Z_crit_left\n"
   ]
  },
  {
   "cell_type": "code",
   "execution_count": 13,
   "id": "e0496c69",
   "metadata": {},
   "outputs": [
    {
     "data": {
      "text/plain": [
       "1.9599639845400545"
      ]
     },
     "execution_count": 13,
     "metadata": {},
     "output_type": "execute_result"
    }
   ],
   "source": [
    "# Z critical Value on the right given area\n",
    "Z_crit_right = norm.isf(0.025)\n",
    "Z_crit_right"
   ]
  },
  {
   "cell_type": "code",
   "execution_count": 14,
   "id": "d441efad",
   "metadata": {},
   "outputs": [
    {
     "data": {
      "text/plain": [
       "0.0001446960878502333"
      ]
     },
     "execution_count": 14,
     "metadata": {},
     "output_type": "execute_result"
    }
   ],
   "source": [
    "#Conclusion: Reject the Null Hypothesis\n",
    "# Thinking in terms of p-value\n",
    "pvalue = 2 * norm.sf(Z_cal) # area to the right of Z_cal (on two tails)\n",
    "pvalue\n",
    "0.0001446960878502333"
   ]
  },
  {
   "cell_type": "markdown",
   "id": "743e10f0",
   "metadata": {},
   "source": [
    "# Question: I want 10% area on the right. What is the Z critical value?\n"
   ]
  },
  {
   "cell_type": "code",
   "execution_count": 22,
   "id": "fb626775",
   "metadata": {},
   "outputs": [
    {
     "data": {
      "text/plain": [
       "1.2815515655446004"
      ]
     },
     "execution_count": 22,
     "metadata": {},
     "output_type": "execute_result"
    }
   ],
   "source": [
    "norm.isf(.10) # TAkes area on the right and gives the Z value"
   ]
  },
  {
   "cell_type": "code",
   "execution_count": 24,
   "id": "e4ce6746",
   "metadata": {},
   "outputs": [
    {
     "data": {
      "text/plain": [
       "1.2815515655446004"
      ]
     },
     "execution_count": 24,
     "metadata": {},
     "output_type": "execute_result"
    }
   ],
   "source": [
    "norm.ppf(.90) # # TAkes area on the left and gives the Z value"
   ]
  },
  {
   "cell_type": "code",
   "execution_count": 15,
   "id": "3e556d51",
   "metadata": {},
   "outputs": [],
   "source": [
    "\n",
    "from statsmodels.stats import weightstats  #Z test\n",
    "import scipy.stats as stats # t-test (It does not have z test option) ******** Remember it"
   ]
  },
  {
   "cell_type": "markdown",
   "id": "ac95bc86",
   "metadata": {},
   "source": [
    "# One Sample Ztest"
   ]
  },
  {
   "cell_type": "code",
   "execution_count": 16,
   "id": "93eb23e1",
   "metadata": {},
   "outputs": [
    {
     "data": {
      "text/html": [
       "<div>\n",
       "<style scoped>\n",
       "    .dataframe tbody tr th:only-of-type {\n",
       "        vertical-align: middle;\n",
       "    }\n",
       "\n",
       "    .dataframe tbody tr th {\n",
       "        vertical-align: top;\n",
       "    }\n",
       "\n",
       "    .dataframe thead th {\n",
       "        text-align: right;\n",
       "    }\n",
       "</style>\n",
       "<table border=\"1\" class=\"dataframe\">\n",
       "  <thead>\n",
       "    <tr style=\"text-align: right;\">\n",
       "      <th></th>\n",
       "      <th>Machine 1</th>\n",
       "    </tr>\n",
       "  </thead>\n",
       "  <tbody>\n",
       "    <tr>\n",
       "      <th>0</th>\n",
       "      <td>152.63</td>\n",
       "    </tr>\n",
       "    <tr>\n",
       "      <th>1</th>\n",
       "      <td>152.94</td>\n",
       "    </tr>\n",
       "    <tr>\n",
       "      <th>2</th>\n",
       "      <td>151.29</td>\n",
       "    </tr>\n",
       "    <tr>\n",
       "      <th>3</th>\n",
       "      <td>153.44</td>\n",
       "    </tr>\n",
       "    <tr>\n",
       "      <th>4</th>\n",
       "      <td>148.58</td>\n",
       "    </tr>\n",
       "    <tr>\n",
       "      <th>...</th>\n",
       "      <td>...</td>\n",
       "    </tr>\n",
       "    <tr>\n",
       "      <th>95</th>\n",
       "      <td>150.03</td>\n",
       "    </tr>\n",
       "    <tr>\n",
       "      <th>96</th>\n",
       "      <td>146.79</td>\n",
       "    </tr>\n",
       "    <tr>\n",
       "      <th>97</th>\n",
       "      <td>150.02</td>\n",
       "    </tr>\n",
       "    <tr>\n",
       "      <th>98</th>\n",
       "      <td>146.42</td>\n",
       "    </tr>\n",
       "    <tr>\n",
       "      <th>99</th>\n",
       "      <td>152.51</td>\n",
       "    </tr>\n",
       "  </tbody>\n",
       "</table>\n",
       "<p>100 rows × 1 columns</p>\n",
       "</div>"
      ],
      "text/plain": [
       "    Machine 1\n",
       "0      152.63\n",
       "1      152.94\n",
       "2      151.29\n",
       "3      153.44\n",
       "4      148.58\n",
       "..        ...\n",
       "95     150.03\n",
       "96     146.79\n",
       "97     150.02\n",
       "98     146.42\n",
       "99     152.51\n",
       "\n",
       "[100 rows x 1 columns]"
      ]
     },
     "execution_count": 16,
     "metadata": {},
     "output_type": "execute_result"
    }
   ],
   "source": [
    "df=pd.read_csv('Machine1.csv')\n",
    "df # elizable for z test"
   ]
  },
  {
   "cell_type": "code",
   "execution_count": 17,
   "id": "acda37c8",
   "metadata": {},
   "outputs": [
    {
     "data": {
      "text/html": [
       "<div>\n",
       "<style scoped>\n",
       "    .dataframe tbody tr th:only-of-type {\n",
       "        vertical-align: middle;\n",
       "    }\n",
       "\n",
       "    .dataframe tbody tr th {\n",
       "        vertical-align: top;\n",
       "    }\n",
       "\n",
       "    .dataframe thead th {\n",
       "        text-align: right;\n",
       "    }\n",
       "</style>\n",
       "<table border=\"1\" class=\"dataframe\">\n",
       "  <thead>\n",
       "    <tr style=\"text-align: right;\">\n",
       "      <th></th>\n",
       "      <th>Machine 1</th>\n",
       "    </tr>\n",
       "  </thead>\n",
       "  <tbody>\n",
       "    <tr>\n",
       "      <th>count</th>\n",
       "      <td>100.000000</td>\n",
       "    </tr>\n",
       "    <tr>\n",
       "      <th>mean</th>\n",
       "      <td>150.203100</td>\n",
       "    </tr>\n",
       "    <tr>\n",
       "      <th>std</th>\n",
       "      <td>2.018812</td>\n",
       "    </tr>\n",
       "    <tr>\n",
       "      <th>min</th>\n",
       "      <td>145.550000</td>\n",
       "    </tr>\n",
       "    <tr>\n",
       "      <th>25%</th>\n",
       "      <td>148.717500</td>\n",
       "    </tr>\n",
       "    <tr>\n",
       "      <th>50%</th>\n",
       "      <td>150.285000</td>\n",
       "    </tr>\n",
       "    <tr>\n",
       "      <th>75%</th>\n",
       "      <td>151.502500</td>\n",
       "    </tr>\n",
       "    <tr>\n",
       "      <th>max</th>\n",
       "      <td>154.550000</td>\n",
       "    </tr>\n",
       "  </tbody>\n",
       "</table>\n",
       "</div>"
      ],
      "text/plain": [
       "        Machine 1\n",
       "count  100.000000\n",
       "mean   150.203100\n",
       "std      2.018812\n",
       "min    145.550000\n",
       "25%    148.717500\n",
       "50%    150.285000\n",
       "75%    151.502500\n",
       "max    154.550000"
      ]
     },
     "execution_count": 17,
     "metadata": {},
     "output_type": "execute_result"
    }
   ],
   "source": [
    "df.describe()"
   ]
  },
  {
   "cell_type": "code",
   "execution_count": 18,
   "id": "5ae71d5e",
   "metadata": {},
   "outputs": [
    {
     "data": {
      "text/plain": [
       "<seaborn.axisgrid.FacetGrid at 0x7fa5d39318e0>"
      ]
     },
     "execution_count": 18,
     "metadata": {},
     "output_type": "execute_result"
    },
    {
     "data": {
      "image/png": "[encoded data removed]",
      "text/plain": [
       "<Figure size 360x360 with 1 Axes>"
      ]
     },
     "metadata": {
      "needs_background": "light"
     },
     "output_type": "display_data"
    }
   ],
   "source": [
    "sns.displot(data=df,x='Machine 1')#df['machine']\n"
   ]
  },
  {
   "cell_type": "code",
   "execution_count": 19,
   "id": "c80d8df4",
   "metadata": {
    "scrolled": false
   },
   "outputs": [
    {
     "data": {
      "text/plain": [
       "<seaborn.axisgrid.FacetGrid at 0x7fa5d3d04520>"
      ]
     },
     "execution_count": 19,
     "metadata": {},
     "output_type": "execute_result"
    },
    {
     "data": {
      "image/png": "[encoded data removed]",
      "text/plain": [
       "<Figure size 360x360 with 1 Axes>"
      ]
     },
     "metadata": {
      "needs_background": "light"
     },
     "output_type": "display_data"
    }
   ],
   "source": [
    "sns.catplot(data=df,y='Machine 1',kind='box')"
   ]
  },
  {
   "cell_type": "code",
   "execution_count": 20,
   "id": "28cab569",
   "metadata": {},
   "outputs": [
    {
     "name": "stdout",
     "output_type": "stream",
     "text": [
      "Z cal:  1.0060370247722599\n",
      "P value:  0.3143977600779597\n"
     ]
    }
   ],
   "source": [
    "z_cal, p_val=weightstats.ztest(df['Machine 1'], value=150,alternative='two-sided' )\n",
    "\n",
    "# weightstats.ztest(df['Machine 1'], value=150,alternative='large' ) # upper tail test\n",
    "print(\"Z cal: \", z_cal)\n",
    "print(\"P value: \", p_val)"
   ]
  },
  {
   "cell_type": "code",
   "execution_count": 21,
   "id": "895f10f0",
   "metadata": {},
   "outputs": [],
   "source": [
    "# p value > 0.05 we dont have enough evidence to reject Ho. SO we are accepting null hypothesis."
   ]
  },
  {
   "cell_type": "markdown",
   "id": "e924816c",
   "metadata": {},
   "source": [
    "# One Sample T test"
   ]
  },
  {
   "cell_type": "markdown",
   "id": "25679be2",
   "metadata": {},
   "source": [
    "Number of sample <=30\n"
   ]
  },
  {
   "cell_type": "code",
   "execution_count": 26,
   "id": "4783954c",
   "metadata": {},
   "outputs": [],
   "source": [
    "volume=pd.Series([148.3,153,150,151.2])"
   ]
  },
  {
   "cell_type": "code",
   "execution_count": 28,
   "id": "30fc5174",
   "metadata": {},
   "outputs": [
    {
     "data": {
      "text/plain": [
       "count      4.00000\n",
       "mean     150.62500\n",
       "std        1.98053\n",
       "min      148.30000\n",
       "25%      149.57500\n",
       "50%      150.60000\n",
       "75%      151.65000\n",
       "max      153.00000\n",
       "dtype: float64"
      ]
     },
     "execution_count": 28,
     "metadata": {},
     "output_type": "execute_result"
    }
   ],
   "source": [
    "volume.describe()"
   ]
  },
  {
   "cell_type": "code",
   "execution_count": 31,
   "id": "a9e7ef93",
   "metadata": {},
   "outputs": [
    {
     "data": {
      "text/plain": [
       "0.5727542889376731"
      ]
     },
     "execution_count": 31,
     "metadata": {},
     "output_type": "execute_result"
    }
   ],
   "source": [
    "import scipy.stats as stats\n",
    "_,p_val=stats.ttest_1samp(volume,150) \n",
    "p_val\n",
    "# Pvalue > alpha, we don't have enough evidence to reject the null hypothesis.\n",
    "# Here we do not specify the significance level we check p value for different confidence interval"
   ]
  },
  {
   "cell_type": "markdown",
   "id": "34d7a608",
   "metadata": {},
   "source": [
    "# 3.One Proportion Test\n",
    "\n",
    "** Here we not have to make any normal approximation as we can directly use the binomial distribution available in the scipy library"
   ]
  },
  {
   "cell_type": "markdown",
   "id": "6dfa1183",
   "metadata": {},
   "source": [
    "# Whether te smoking habbit has changed or not\n",
    "\n",
    "\n",
    "Ho: P=Po\n",
    "\n",
    "Ha: P!=Po\n",
    "\n",
    "Two tailed test with 95% CI and alpha =5%"
   ]
  },
  {
   "cell_type": "code",
   "execution_count": 73,
   "id": "5506181b",
   "metadata": {},
   "outputs": [
    {
     "data": {
      "text/plain": [
       "0.1092081572082592"
      ]
     },
     "execution_count": 73,
     "metadata": {},
     "output_type": "execute_result"
    }
   ],
   "source": [
    "stats.binom_test(14,100,p=0.21, alternative='two-sided')\n",
    "\n",
    "#14 --> the number of smokers in the sample you've taken\n",
    "#100--> the number of samples you're tackling\n",
    "# p--> the previous proportion of the smokers in the population\n",
    "# Conclusion: We cannot reject the null Hypothesis"
   ]
  },
  {
   "cell_type": "markdown",
   "id": "20ea5873",
   "metadata": {},
   "source": [
    "# Has the smoking habit reduced?"
   ]
  },
  {
   "cell_type": "code",
   "execution_count": 74,
   "id": "d71fc2f6",
   "metadata": {},
   "outputs": [
    {
     "data": {
      "text/plain": [
       "0.0504246022155211"
      ]
     },
     "execution_count": 74,
     "metadata": {},
     "output_type": "execute_result"
    }
   ],
   "source": [
    "stats.binom_test(14,100,p=0.21, alternative='less')\n",
    "\n",
    "#Rejecting the Null hypothesis"
   ]
  },
  {
   "cell_type": "markdown",
   "id": "209d3176",
   "metadata": {},
   "source": [
    "# Smoker's Dataset"
   ]
  },
  {
   "cell_type": "code",
   "execution_count": 75,
   "id": "887e080e",
   "metadata": {},
   "outputs": [
    {
     "data": {
      "text/html": [
       "<div>\n",
       "<style scoped>\n",
       "    .dataframe tbody tr th:only-of-type {\n",
       "        vertical-align: middle;\n",
       "    }\n",
       "\n",
       "    .dataframe tbody tr th {\n",
       "        vertical-align: top;\n",
       "    }\n",
       "\n",
       "    .dataframe thead th {\n",
       "        text-align: right;\n",
       "    }\n",
       "</style>\n",
       "<table border=\"1\" class=\"dataframe\">\n",
       "  <thead>\n",
       "    <tr style=\"text-align: right;\">\n",
       "      <th></th>\n",
       "      <th>Name</th>\n",
       "      <th>Smokers</th>\n",
       "    </tr>\n",
       "  </thead>\n",
       "  <tbody>\n",
       "    <tr>\n",
       "      <th>0</th>\n",
       "      <td>Person 1</td>\n",
       "      <td>No</td>\n",
       "    </tr>\n",
       "    <tr>\n",
       "      <th>1</th>\n",
       "      <td>Person 2</td>\n",
       "      <td>No</td>\n",
       "    </tr>\n",
       "    <tr>\n",
       "      <th>2</th>\n",
       "      <td>Person 3</td>\n",
       "      <td>No</td>\n",
       "    </tr>\n",
       "    <tr>\n",
       "      <th>3</th>\n",
       "      <td>Person 4</td>\n",
       "      <td>Yes</td>\n",
       "    </tr>\n",
       "    <tr>\n",
       "      <th>4</th>\n",
       "      <td>Person 5</td>\n",
       "      <td>No</td>\n",
       "    </tr>\n",
       "    <tr>\n",
       "      <th>...</th>\n",
       "      <td>...</td>\n",
       "      <td>...</td>\n",
       "    </tr>\n",
       "    <tr>\n",
       "      <th>95</th>\n",
       "      <td>Person 96</td>\n",
       "      <td>No</td>\n",
       "    </tr>\n",
       "    <tr>\n",
       "      <th>96</th>\n",
       "      <td>Person 97</td>\n",
       "      <td>No</td>\n",
       "    </tr>\n",
       "    <tr>\n",
       "      <th>97</th>\n",
       "      <td>Person 98</td>\n",
       "      <td>No</td>\n",
       "    </tr>\n",
       "    <tr>\n",
       "      <th>98</th>\n",
       "      <td>Person 99</td>\n",
       "      <td>No</td>\n",
       "    </tr>\n",
       "    <tr>\n",
       "      <th>99</th>\n",
       "      <td>Person 100</td>\n",
       "      <td>No</td>\n",
       "    </tr>\n",
       "  </tbody>\n",
       "</table>\n",
       "<p>100 rows × 2 columns</p>\n",
       "</div>"
      ],
      "text/plain": [
       "          Name Smokers\n",
       "0     Person 1      No\n",
       "1     Person 2      No\n",
       "2     Person 3      No\n",
       "3     Person 4     Yes\n",
       "4     Person 5      No\n",
       "..         ...     ...\n",
       "95   Person 96      No\n",
       "96   Person 97      No\n",
       "97   Person 98      No\n",
       "98   Person 99      No\n",
       "99  Person 100      No\n",
       "\n",
       "[100 rows x 2 columns]"
      ]
     },
     "execution_count": 75,
     "metadata": {},
     "output_type": "execute_result"
    }
   ],
   "source": [
    "df_smk=pd.read_csv('Smokers.csv')\n",
    "df_smk"
   ]
  },
  {
   "cell_type": "code",
   "execution_count": 76,
   "id": "3bc47ca6",
   "metadata": {},
   "outputs": [
    {
     "data": {
      "text/html": [
       "<div>\n",
       "<style scoped>\n",
       "    .dataframe tbody tr th:only-of-type {\n",
       "        vertical-align: middle;\n",
       "    }\n",
       "\n",
       "    .dataframe tbody tr th {\n",
       "        vertical-align: top;\n",
       "    }\n",
       "\n",
       "    .dataframe thead th {\n",
       "        text-align: right;\n",
       "    }\n",
       "</style>\n",
       "<table border=\"1\" class=\"dataframe\">\n",
       "  <thead>\n",
       "    <tr style=\"text-align: right;\">\n",
       "      <th></th>\n",
       "      <th>Name</th>\n",
       "    </tr>\n",
       "    <tr>\n",
       "      <th>Smokers</th>\n",
       "      <th></th>\n",
       "    </tr>\n",
       "  </thead>\n",
       "  <tbody>\n",
       "    <tr>\n",
       "      <th>No</th>\n",
       "      <td>86</td>\n",
       "    </tr>\n",
       "    <tr>\n",
       "      <th>Yes</th>\n",
       "      <td>14</td>\n",
       "    </tr>\n",
       "  </tbody>\n",
       "</table>\n",
       "</div>"
      ],
      "text/plain": [
       "         Name\n",
       "Smokers      \n",
       "No         86\n",
       "Yes        14"
      ]
     },
     "execution_count": 76,
     "metadata": {},
     "output_type": "execute_result"
    }
   ],
   "source": [
    "smk=df_smk.groupby(by='Smokers').count()\n",
    "smk"
   ]
  },
  {
   "cell_type": "code",
   "execution_count": 77,
   "id": "3f08abcb",
   "metadata": {},
   "outputs": [
    {
     "data": {
      "text/html": [
       "<div>\n",
       "<style scoped>\n",
       "    .dataframe tbody tr th:only-of-type {\n",
       "        vertical-align: middle;\n",
       "    }\n",
       "\n",
       "    .dataframe tbody tr th {\n",
       "        vertical-align: top;\n",
       "    }\n",
       "\n",
       "    .dataframe thead th {\n",
       "        text-align: right;\n",
       "    }\n",
       "</style>\n",
       "<table border=\"1\" class=\"dataframe\">\n",
       "  <thead>\n",
       "    <tr style=\"text-align: right;\">\n",
       "      <th></th>\n",
       "      <th>Name</th>\n",
       "    </tr>\n",
       "    <tr>\n",
       "      <th>Smokers</th>\n",
       "      <th></th>\n",
       "    </tr>\n",
       "  </thead>\n",
       "  <tbody>\n",
       "    <tr>\n",
       "      <th>Yes</th>\n",
       "      <td>14</td>\n",
       "    </tr>\n",
       "    <tr>\n",
       "      <th>No</th>\n",
       "      <td>86</td>\n",
       "    </tr>\n",
       "  </tbody>\n",
       "</table>\n",
       "</div>"
      ],
      "text/plain": [
       "         Name\n",
       "Smokers      \n",
       "Yes        14\n",
       "No         86"
      ]
     },
     "execution_count": 77,
     "metadata": {},
     "output_type": "execute_result"
    }
   ],
   "source": [
    "# smk.iloc[::-1]"
   ]
  },
  {
   "cell_type": "code",
   "execution_count": 78,
   "id": "039a1580",
   "metadata": {},
   "outputs": [],
   "source": [
    "smk=smk.reindex(['Yes','No'])"
   ]
  },
  {
   "cell_type": "code",
   "execution_count": 79,
   "id": "6eb141b3",
   "metadata": {},
   "outputs": [
    {
     "data": {
      "text/html": [
       "<div>\n",
       "<style scoped>\n",
       "    .dataframe tbody tr th:only-of-type {\n",
       "        vertical-align: middle;\n",
       "    }\n",
       "\n",
       "    .dataframe tbody tr th {\n",
       "        vertical-align: top;\n",
       "    }\n",
       "\n",
       "    .dataframe thead th {\n",
       "        text-align: right;\n",
       "    }\n",
       "</style>\n",
       "<table border=\"1\" class=\"dataframe\">\n",
       "  <thead>\n",
       "    <tr style=\"text-align: right;\">\n",
       "      <th></th>\n",
       "      <th>Name</th>\n",
       "    </tr>\n",
       "    <tr>\n",
       "      <th>Smokers</th>\n",
       "      <th></th>\n",
       "    </tr>\n",
       "  </thead>\n",
       "  <tbody>\n",
       "    <tr>\n",
       "      <th>Yes</th>\n",
       "      <td>14</td>\n",
       "    </tr>\n",
       "    <tr>\n",
       "      <th>No</th>\n",
       "      <td>86</td>\n",
       "    </tr>\n",
       "  </tbody>\n",
       "</table>\n",
       "</div>"
      ],
      "text/plain": [
       "         Name\n",
       "Smokers      \n",
       "Yes        14\n",
       "No         86"
      ]
     },
     "execution_count": 79,
     "metadata": {},
     "output_type": "execute_result"
    }
   ],
   "source": [
    "smk"
   ]
  },
  {
   "cell_type": "code",
   "execution_count": 80,
   "id": "eef57bd3",
   "metadata": {},
   "outputs": [
    {
     "data": {
      "text/plain": [
       "array([0.10920816])"
      ]
     },
     "execution_count": 80,
     "metadata": {},
     "output_type": "execute_result"
    }
   ],
   "source": [
    "stats.binom_test(smk,p=0.21)"
   ]
  },
  {
   "cell_type": "markdown",
   "id": "c46e5b6a",
   "metadata": {},
   "source": [
    "# 4. One Variance test (Chi Square)\n",
    "\n",
    "*** We dont have direct function for this. So, we will have to use python as a calculator"
   ]
  },
  {
   "cell_type": "code",
   "execution_count": 81,
   "id": "0f17a4a6",
   "metadata": {},
   "outputs": [
    {
     "data": {
      "text/plain": [
       "69.03125000000001"
      ]
     },
     "execution_count": 81,
     "metadata": {},
     "output_type": "execute_result"
    }
   ],
   "source": [
    "Chi_sq_cal = (51-1)*(2.35**2)/ (2**2)\n",
    "Chi_sq_cal"
   ]
  },
  {
   "cell_type": "code",
   "execution_count": 82,
   "id": "411b39a8",
   "metadata": {},
   "outputs": [
    {
     "data": {
      "text/plain": [
       "63.167121005726315"
      ]
     },
     "execution_count": 82,
     "metadata": {},
     "output_type": "execute_result"
    }
   ],
   "source": [
    "# Chi Square Critical\n",
    "# 10% area on the right for df=50 at chi-sqr\n",
    "stats.chi2.isf(0.10, 50)\n",
    "\n",
    "#### Conclusion: Reject the Null Hypothesis"
   ]
  },
  {
   "cell_type": "code",
   "execution_count": null,
   "id": "643f3f98",
   "metadata": {},
   "outputs": [],
   "source": []
  },
  {
   "cell_type": "code",
   "execution_count": null,
   "id": "898dc590",
   "metadata": {},
   "outputs": [],
   "source": []
  }
 ],
 "metadata": {
  "kernelspec": {
   "display_name": "Python 3",
   "language": "python",
   "name": "python3"
  },
  "language_info": {
   "codemirror_mode": {
    "name": "ipython",
    "version": 3
   },
   "file_extension": ".py",
   "mimetype": "text/x-python",
   "name": "python",
   "nbconvert_exporter": "python",
   "pygments_lexer": "ipython3",
   "version": "3.8.8"
  }
 },
 "nbformat": 4,
 "nbformat_minor": 5
}
